{
 "cells": [
  {
   "cell_type": "code",
   "execution_count": 90,
   "metadata": {},
   "outputs": [
    {
     "name": "stdout",
     "output_type": "stream",
     "text": [
      "{1: 'N', 2: ((36, 1), (51, 1), (12525277, 439693)), 3: 'W', 4: ((76, 1), (12, 1), (11698709, 961069)), 5: 1, 6: (100, 1)}\n"
     ]
    }
   ],
   "source": [
    "import piexif\n",
    "from PIL import Image\n",
    "\n",
    "testData = ('N', ((36, 1), (51, 1), (12525277, 439693)), 'W', ((76, 1), (12, 1), (11698709, 961069)), 1, (100, 1))\n",
    "image = Image.open('images/amelia1.jpg')\n",
    "exif_dict = piexif.load(image.info[\"exif\"])\n",
    "# gps_ifd = {\n",
    "#         piexif.GPSIFD.GPSLatitudeRef: \"N\",\n",
    "#         piexif.GPSIFD.GPSLatitude: ((36,1),(51,1),(28,1000)),\n",
    "#         piexif.GPSIFD.GPSLongitudeRef: \"W\",\n",
    "#         piexif.GPSIFD.GPSLongitude: ((76,1),(12,1),(1,12000)),\n",
    "#         piexif.GPSIFD.GPSAltitudeRef: 0,\n",
    "#         piexif.GPSIFD.GPSAltitude: (76,1),\n",
    "#     }\n",
    "\n",
    "gps_ifd = {\n",
    "        piexif.GPSIFD.GPSLatitudeRef: testData[0],\n",
    "        piexif.GPSIFD.GPSLatitude: testData[1],\n",
    "        piexif.GPSIFD.GPSLongitudeRef: testData[2],\n",
    "        piexif.GPSIFD.GPSLongitude: testData[3],\n",
    "        piexif.GPSIFD.GPSAltitudeRef: testData[4],\n",
    "        piexif.GPSIFD.GPSAltitude: testData[5],\n",
    "    }\n",
    "#add TRY block\n",
    "\n",
    "exif_dict[\"GPS\"] = gps_ifd \n",
    "print(gps_ifd2)\n",
    "try:\n",
    "    exif_bytes = piexif.dump(exif_dict)\n",
    "except:\n",
    "    del exif_dict[\"1st\"]\n",
    "    del exif_dict[\"thumbnail\"]\n",
    "    exif_bytes = piexif.dump(exif_dict)\n",
    "\n",
    "\n",
    "exif_dict[\"GPS\"] = gps_ifd \n",
    "exif_dict\n",
    "\n",
    "\n",
    "image.save('images/ameliaGPS.jpg', \"jpeg\",exif=exif_bytes)\n",
    "\n",
    "\n"
   ]
  },
  {
   "cell_type": "code",
   "execution_count": 89,
   "metadata": {},
   "outputs": [
    {
     "data": {
      "text/plain": [
       "{1: b'N',\n",
       " 2: ((36, 1), (51, 1), (12525277, 439693)),\n",
       " 3: b'W',\n",
       " 4: ((76, 1), (12, 1), (11698709, 961069)),\n",
       " 5: 1,\n",
       " 6: (100, 1)}"
      ]
     },
     "execution_count": 89,
     "metadata": {},
     "output_type": "execute_result"
    }
   ],
   "source": [
    "import piexif\n",
    "from PIL import Image\n",
    "\n",
    "\n",
    "image = Image.open('images/ameliaGPS.jpg')\n",
    "exif_dict = piexif.load(image.info[\"exif\"])\n",
    "exif_dict[\"GPS\"]\n",
    "\n",
    "\n",
    "#36.857912892884606, -76.20338127791958\n",
    "\n"
   ]
  },
  {
   "cell_type": "code",
   "execution_count": null,
   "metadata": {},
   "outputs": [],
   "source": [
    "my_image.gps_latitude = (36.0,51.0,28.0)\n",
    "\n"
   ]
  },
  {
   "cell_type": "code",
   "execution_count": 84,
   "metadata": {},
   "outputs": [
    {
     "name": "stdout",
     "output_type": "stream",
     "text": [
      "((36, 1), (51, 1), (12525277, 439693))\n",
      "((76, 1), (12, 1), (11698709, 961069))\n",
      "('N', ((36, 1), (51, 1), (12525277, 439693)), 'W', ((76, 1), (12, 1), (11698709, 961069)), 1, (100, 1))\n"
     ]
    }
   ],
   "source": [
    "import piexif\n",
    "from PIL import Image\n",
    "import math\n",
    "from fractions import Fraction\n",
    "\n",
    "coord_to_test = [36.857912892884606, -76.20338127791958]\n",
    "\n",
    "def decimalCoordToRational(coords, altitude = 100):\n",
    "    #Initialize lists and references\n",
    "    latRef = 'N'\n",
    "    longRef = 'E'\n",
    "    altRef = 1\n",
    "    hours = []\n",
    "    minutes = []\n",
    "    seconds = []\n",
    "\n",
    "    #iterate through lat and long and separate into each into a tuple of rational numbers for D, M, S\n",
    "    for i in range(2):\n",
    "        hours.append(math.modf(coords[i]))\n",
    "        minutes.append(math.modf(abs(hours[i][0] * 60)))\n",
    "        seconds.append(minutes[i][0] * 60)\n",
    "\n",
    "    #Convert Seconds and altitude into fraction.\n",
    "    latSecondsFraction = Fraction(seconds[0]).limit_denominator()\n",
    "    longSecondsFraction = Fraction(seconds[1]).limit_denominator()\n",
    "    altitudeFraction = Fraction(altitude).limit_denominator()\n",
    "\n",
    "    #Build the tuple that holds the full lat and long\n",
    "    rationalLat = ((abs(int(hours[0][1])), 1),(int(minutes[0][1]), 1),(latSecondsFraction.numerator, latSecondsFraction.denominator))\n",
    "    rationalLong =  ((abs(int(hours[1][1])), 1),(int(minutes[1][1]), 1),(longSecondsFraction.numerator, longSecondsFraction.denominator))\n",
    "\n",
    "    #Determine N/S and E/W reference of coordinate based on it's sign.\n",
    "    if hours[0][1] < 0:\n",
    "        latRef = \"S\"\n",
    "    if hours[1][1] < 0:\n",
    "        longRef = \"W\"\n",
    "\n",
    "    #Determine altitude reference (0 or below sea level, 1 for above)\n",
    "    if altitude < 0:\n",
    "        altRef = 0\n",
    "\n",
    "    #build altitude tuple\n",
    "    rationalAltitude = (altitudeFraction.numerator, altitudeFraction.denominator)\n",
    "\n",
    "    # print(hours)\n",
    "    # print(minutes)\n",
    "    # for i in seconds:\n",
    "    #     print(Fraction(i).limit_denominator())\n",
    "\n",
    "    # print(f'Lat: {latRef}{int(hours[0][1])}:{int(minutes[0][1])}:{round(seconds[0], 4)}')\n",
    "    # print(f'Long: {longRef}{abs(int(hours[1][1]))}:{int(minutes[1][1])}:{round(seconds[1], 4)}')\n",
    "\n",
    "\n",
    "\n",
    "    print(rationalLat)\n",
    "    print(rationalLong)\n",
    "    #build entire GPS IFD\n",
    "    gps_ifd = (latRef,rationalLat,longRef,rationalLong,altRef,rationalAltitude)\n",
    "    print(gps_ifd)\n",
    "\n",
    "decimalCoordToRational(coord_to_test)"
   ]
  }
 ],
 "metadata": {
  "interpreter": {
   "hash": "d96656693eb7f420d1e5633d7986c8f5378416fdaad6a143bfb7e24089045444"
  },
  "kernelspec": {
   "display_name": "Python 3.10.1 64-bit",
   "language": "python",
   "name": "python3"
  },
  "language_info": {
   "codemirror_mode": {
    "name": "ipython",
    "version": 3
   },
   "file_extension": ".py",
   "mimetype": "text/x-python",
   "name": "python",
   "nbconvert_exporter": "python",
   "pygments_lexer": "ipython3",
   "version": "3.10.1"
  },
  "orig_nbformat": 4
 },
 "nbformat": 4,
 "nbformat_minor": 2
}
