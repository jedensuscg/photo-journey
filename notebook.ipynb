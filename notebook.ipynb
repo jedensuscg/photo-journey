{
 "cells": [
  {
   "cell_type": "code",
   "execution_count": 121,
   "metadata": {},
   "outputs": [],
   "source": [
    "import piexif\n",
    "from PIL import Image\n",
    "\n",
    "\n",
    "image = Image.open('images/amelia1.jpg')\n",
    "exif_dict = piexif.load(image.info[\"exif\"])\n",
    "gps_ifd = {\n",
    "        piexif.GPSIFD.GPSLatitudeRef: \"N\",\n",
    "        piexif.GPSIFD.GPSLatitude: ((36,1),(51,1),(28,1000)),\n",
    "        piexif.GPSIFD.GPSLongitudeRef: \"W\",\n",
    "        piexif.GPSIFD.GPSLongitude: ((76,1),(12,1),(1,12000)),\n",
    "        piexif.GPSIFD.GPSAltitudeRef: 1,\n",
    "        piexif.GPSIFD.GPSAltitude: (76,1),\n",
    "    }\n",
    "#add TRY block\n",
    "\n",
    "exif_dict[\"GPS\"] = gps_ifd \n",
    "\n",
    "try:\n",
    "    exif_bytes = piexif.dump(exif_dict)\n",
    "except:\n",
    "    del exif_dict[\"1st\"]\n",
    "    del exif_dict[\"thumbnail\"]\n",
    "    exif_bytes = piexif.dump(exif_dict)\n",
    "\n",
    "\n",
    "exif_dict[\"GPS\"] = gps_ifd \n",
    "exif_dict\n",
    "\n",
    "\n",
    "image.save('images/ameliaGPS.jpg', \"jpeg\",exif=exif_bytes)\n",
    "\n",
    "\n"
   ]
  },
  {
   "cell_type": "code",
   "execution_count": 122,
   "metadata": {},
   "outputs": [
    {
     "data": {
      "text/plain": [
       "{1: b'N',\n",
       " 2: ((36, 1), (51, 1), (28, 1000)),\n",
       " 3: b'W',\n",
       " 4: ((76, 1), (12, 1), (1, 12000)),\n",
       " 5: 1,\n",
       " 6: (76, 1)}"
      ]
     },
     "execution_count": 122,
     "metadata": {},
     "output_type": "execute_result"
    }
   ],
   "source": [
    "import piexif\n",
    "from PIL import Image\n",
    "\n",
    "\n",
    "image = Image.open('images/ameliaGPS.jpg')\n",
    "exif_dict = piexif.load(image.info[\"exif\"])\n",
    "exif_dict[\"GPS\"]\n",
    "\n",
    "\n",
    "#36.857912892884606, -76.20338127791958\n",
    "\n"
   ]
  },
  {
   "cell_type": "code",
   "execution_count": null,
   "metadata": {},
   "outputs": [],
   "source": [
    "my_image.gps_latitude = (36.0,51.0,28.0)\n",
    "\n"
   ]
  }
 ],
 "metadata": {
  "interpreter": {
   "hash": "d96656693eb7f420d1e5633d7986c8f5378416fdaad6a143bfb7e24089045444"
  },
  "kernelspec": {
   "display_name": "Python 3.10.1 64-bit",
   "language": "python",
   "name": "python3"
  },
  "language_info": {
   "codemirror_mode": {
    "name": "ipython",
    "version": 3
   },
   "file_extension": ".py",
   "mimetype": "text/x-python",
   "name": "python",
   "nbconvert_exporter": "python",
   "pygments_lexer": "ipython3",
   "version": "3.10.1"
  },
  "orig_nbformat": 4
 },
 "nbformat": 4,
 "nbformat_minor": 2
}
